{
  "metadata": {
    "kernelspec": {
      "name": "python",
      "display_name": "Python (Pyodide)",
      "language": "python"
    },
    "language_info": {
      "codemirror_mode": {
        "name": "python",
        "version": 3
      },
      "file_extension": ".py",
      "mimetype": "text/x-python",
      "name": "python",
      "nbconvert_exporter": "python",
      "pygments_lexer": "ipython3",
      "version": "3.8"
    }
  },
  "nbformat_minor": 4,
  "nbformat": 4,
  "cells": [
    {
      "cell_type": "markdown",
      "source": "# Generalized ETL script",
      "metadata": {}
    },
    {
      "cell_type": "code",
      "source": "import pandas as pd\nimport os\n\n# extract\ndef extract(file_path):\n    # read in file and return df\n    # don't forget to adjust the method of reading based on your file format\n    if file_path.endswith('.csv'):\n        return pd.read_csv(file_path)\n    elif file_path.endswith('.xlsx'):\n        return pd.read_excel(file_path)\n    # add more conditions for other file types if needed\n    else:\n        raise ValueError('Unsupported file format')\n\n# transform\ndef transform(df):\n    # transformation on df\n    # add transformation logic here for future ref. e.g.,\n    # - cleaning data\n    # - filtering rows\n    # - creating new columns\n    # - aggregating data\n    # - etc.\n    transformed_df = df.copy()\n    # example: rename columns\n    transformed_df.columns = [col.lower() for col in df.columns]\n    return transformed_df\n\n# load\ndef load(df, destination_path):\n    # load df to a destination path\n    # save as csv file\n    df.to_csv(destination_path, index=False)\n\n# ETL process\ndef run_etl(input_path, output_path):\n    df = extract(input_path)\n    transformed_df = transform(df)\n    load(transformed_df, output_path)\n\n# example\ninput_file_path = 'path/to/your/input/file.csv'  # replace with your input file path\noutput_file_path = 'path/to/your/output/file.csv'  # replace with your output file path\nrun_etl(input_file_path, output_file_path)\n",
      "metadata": {
        "trusted": true
      },
      "outputs": [],
      "execution_count": null
    }
  ]
}